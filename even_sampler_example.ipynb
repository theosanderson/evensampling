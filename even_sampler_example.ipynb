{
 "cells": [
  {
   "cell_type": "markdown",
   "metadata": {
    "colab_type": "text",
    "id": "view-in-github"
   },
   "source": [
    "<a href=\"https://colab.research.google.com/github/theosanderson/Prioritisation/blob/main/Cherry_picking_optimisation_static.ipynb\" target=\"_parent\"><img src=\"https://colab.research.google.com/assets/colab-badge.svg\" alt=\"Open In Colab\"/></a>"
   ]
  },
  {
   "cell_type": "code",
   "execution_count": 1,
   "metadata": {
    "colab": {
     "base_uri": "https://localhost:8080/"
    },
    "id": "p1dkQrdyc0DJ",
    "outputId": "2cabe9a9-7fb8-418c-9adc-5d54e33a9e03"
   },
   "outputs": [],
   "source": [
    "#!pip install ortools"
   ]
  },
  {
   "cell_type": "code",
   "execution_count": 2,
   "metadata": {
    "id": "NnPMcOlTc1yX"
   },
   "outputs": [],
   "source": [
    "from __future__ import print_function\n",
    "from ortools.sat.python import cp_model\n",
    "from io import StringIO\n",
    "import pandas as pd\n",
    "from collections import defaultdict\n"
   ]
  },
  {
   "cell_type": "code",
   "execution_count": 3,
   "metadata": {
    "id": "8wPC0tC6dCv2"
   },
   "outputs": [],
   "source": [
    "past_6_days_io = StringIO(\n",
    "\"\"\"area,n\n",
    "London,25\n",
    "Birmingham,25\n",
    "Cardiff,25\n",
    "Kent,0\n",
    "\"\"\")\n",
    "past_6_days = pd.read_csv(past_6_days_io)\n",
    "\n",
    "\n",
    "case_numbers_io = StringIO(\n",
    "\"\"\"area,cases\n",
    "London,25\n",
    "Birmingham,5\n",
    "Cardiff,25\n",
    "Kent,25\n",
    "\"\"\")\n",
    "case_numbers = pd.read_csv(case_numbers_io)\n",
    "\n",
    "box_manifest_io = StringIO(\n",
    "\"\"\"box,plate,coord,area,priority\n",
    "boxC5,plate33B,A5,Cardiff,0\n",
    "boxC2,plate123A,A1,Cardiff,0\n",
    "box1,plate123A,A2,London,0\n",
    "box1,plate1413A,A3,London,0\n",
    "box1,plate15B,A4,Kent,0\n",
    "box2,plate26A,A1,London,0\n",
    "box2b,plate25B,A1,London,0\n",
    "box3,plate23C,A1,Kent,0\n",
    "box3,plate22D,A1,Birmingham,1\n",
    "\"\"\")\n",
    "box_manifest = pd.read_csv(box_manifest_io)"
   ]
  },
  {
   "cell_type": "code",
   "execution_count": 4,
   "metadata": {
    "colab": {
     "base_uri": "https://localhost:8080/",
     "height": 328
    },
    "id": "vKiHz5_Q-hNk",
    "outputId": "2a5bf0f2-48c0-4f1a-c481-25696529b579"
   },
   "outputs": [
    {
     "data": {
      "text/html": [
       "<div>\n",
       "<style scoped>\n",
       "    .dataframe tbody tr th:only-of-type {\n",
       "        vertical-align: middle;\n",
       "    }\n",
       "\n",
       "    .dataframe tbody tr th {\n",
       "        vertical-align: top;\n",
       "    }\n",
       "\n",
       "    .dataframe thead th {\n",
       "        text-align: right;\n",
       "    }\n",
       "</style>\n",
       "<table border=\"1\" class=\"dataframe\">\n",
       "  <thead>\n",
       "    <tr style=\"text-align: right;\">\n",
       "      <th></th>\n",
       "      <th>box</th>\n",
       "      <th>plate</th>\n",
       "      <th>coord</th>\n",
       "      <th>ltla</th>\n",
       "      <th>priority</th>\n",
       "    </tr>\n",
       "  </thead>\n",
       "  <tbody>\n",
       "    <tr>\n",
       "      <th>0</th>\n",
       "      <td>boxC5</td>\n",
       "      <td>plate33B</td>\n",
       "      <td>A5</td>\n",
       "      <td>Cardiff</td>\n",
       "      <td>0</td>\n",
       "    </tr>\n",
       "    <tr>\n",
       "      <th>1</th>\n",
       "      <td>boxC2</td>\n",
       "      <td>plate123A</td>\n",
       "      <td>A1</td>\n",
       "      <td>Cardiff</td>\n",
       "      <td>0</td>\n",
       "    </tr>\n",
       "    <tr>\n",
       "      <th>2</th>\n",
       "      <td>box1</td>\n",
       "      <td>plate123A</td>\n",
       "      <td>A2</td>\n",
       "      <td>London</td>\n",
       "      <td>0</td>\n",
       "    </tr>\n",
       "    <tr>\n",
       "      <th>3</th>\n",
       "      <td>box1</td>\n",
       "      <td>plate1413A</td>\n",
       "      <td>A3</td>\n",
       "      <td>London</td>\n",
       "      <td>0</td>\n",
       "    </tr>\n",
       "    <tr>\n",
       "      <th>4</th>\n",
       "      <td>box1</td>\n",
       "      <td>plate15B</td>\n",
       "      <td>A4</td>\n",
       "      <td>Kent</td>\n",
       "      <td>0</td>\n",
       "    </tr>\n",
       "    <tr>\n",
       "      <th>5</th>\n",
       "      <td>box2</td>\n",
       "      <td>plate26A</td>\n",
       "      <td>A1</td>\n",
       "      <td>London</td>\n",
       "      <td>0</td>\n",
       "    </tr>\n",
       "    <tr>\n",
       "      <th>6</th>\n",
       "      <td>box2b</td>\n",
       "      <td>plate25B</td>\n",
       "      <td>A1</td>\n",
       "      <td>London</td>\n",
       "      <td>0</td>\n",
       "    </tr>\n",
       "    <tr>\n",
       "      <th>7</th>\n",
       "      <td>box3</td>\n",
       "      <td>plate23C</td>\n",
       "      <td>A1</td>\n",
       "      <td>Kent</td>\n",
       "      <td>0</td>\n",
       "    </tr>\n",
       "    <tr>\n",
       "      <th>8</th>\n",
       "      <td>box3</td>\n",
       "      <td>plate22D</td>\n",
       "      <td>A1</td>\n",
       "      <td>Birmingham</td>\n",
       "      <td>1</td>\n",
       "    </tr>\n",
       "  </tbody>\n",
       "</table>\n",
       "</div>"
      ],
      "text/plain": [
       "     box       plate coord        ltla  priority\n",
       "0  boxC5    plate33B    A5     Cardiff         0\n",
       "1  boxC2   plate123A    A1     Cardiff         0\n",
       "2   box1   plate123A    A2      London         0\n",
       "3   box1  plate1413A    A3      London         0\n",
       "4   box1    plate15B    A4        Kent         0\n",
       "5   box2    plate26A    A1      London         0\n",
       "6  box2b    plate25B    A1      London         0\n",
       "7   box3    plate23C    A1        Kent         0\n",
       "8   box3    plate22D    A1  Birmingham         1"
      ]
     },
     "execution_count": 4,
     "metadata": {},
     "output_type": "execute_result"
    }
   ],
   "source": [
    "box_manifest"
   ]
  },
  {
   "cell_type": "markdown",
   "metadata": {
    "id": "YuzJWPQ3jJmP"
   },
   "source": [
    "## Constants"
   ]
  },
  {
   "cell_type": "code",
   "execution_count": 5,
   "metadata": {
    "id": "U_WRVvqmjLaK"
   },
   "outputs": [],
   "source": [
    "seconds_per_cherrypick = 10\n",
    "seconds_per_box_load = 60*20\n",
    "\n",
    "total_time_available = 60*20*2 +45 # fake small value\n",
    "\n",
    "ltla_loss_weighting = 2\n",
    "\n",
    "individual_sample_weighting =1\n",
    "\n",
    "priority_sample_weighting = 10"
   ]
  },
  {
   "cell_type": "markdown",
   "metadata": {
    "id": "f99jTVOxjEpX"
   },
   "source": [
    "## Variable set up"
   ]
  },
  {
   "cell_type": "code",
   "execution_count": 6,
   "metadata": {
    "id": "DxARI7ZKhPZm"
   },
   "outputs": [],
   "source": [
    "model = cp_model.CpModel()\n",
    "\n",
    "sample_is_picked = {} # indexed by row index\n",
    "priority_sample_is_picked = {} # indexed by row index\n",
    "box_is_picked = {} # indexed by box name\n",
    "\n",
    "sample_is_picked_by_ltla = defaultdict(list)\n",
    "\n",
    "\n",
    "boxes = box_manifest.box.unique().tolist()\n",
    "for box_name in boxes:\n",
    "  box_is_picked[box_name] = model.NewBoolVar(f'box_{box_name}_is_picked')\n",
    "\n",
    "for i,row in box_manifest.iterrows():\n",
    "  sample_is_picked[i] = model.NewBoolVar(f'sample_{i}_is_picked')\n",
    "  model.Add(box_is_picked[row.box] >= sample_is_picked[i])\n",
    "  sample_is_picked_by_ltla[row.ltla].append(sample_is_picked[i])\n",
    "  if row.priority:\n",
    "    priority_sample_is_picked[i] = sample_is_picked[i]\n",
    "\n",
    "total_boxes_picked = sum(box_is_picked.values())\n",
    "total_samples_picked = sum(sample_is_picked.values())\n",
    "total_priority_samples_picked = sum(priority_sample_is_picked.values())\n",
    "\n",
    "\n",
    "total_time = total_boxes_picked* seconds_per_box_load + total_samples_picked*seconds_per_cherrypick"
   ]
  },
  {
   "cell_type": "markdown",
   "metadata": {
    "id": "AlgYM1idkT_v"
   },
   "source": [
    "### Geographical desired variable set up"
   ]
  },
  {
   "cell_type": "code",
   "execution_count": 7,
   "metadata": {
    "id": "VtF9yZtijibV"
   },
   "outputs": [],
   "source": [
    "total_by_ltla = {}\n",
    "for key, value in sample_is_picked_by_ltla.items():\n",
    "  total_by_ltla[key] = sum(value)\n",
    "\n",
    "case_numbers['proportion'] = case_numbers['cases'] / case_numbers['cases'].sum()\n",
    "case_number_proportions = dict(zip(case_numbers['ltla'], case_numbers['proportion']))\n",
    "\n",
    "desired_numbers_for_eod_by_ltla = {}\n",
    "projected_numbers_for_eod_by_ltla = {}\n",
    "\n",
    "genomes_in_last_6_days_by_ltla = dict(zip(past_6_days['ltla'], past_6_days['genomes']))\n",
    "total_in_past_6_days = past_6_days['genomes'].sum()\n",
    "\n",
    "for ltla in case_number_proportions.keys():\n",
    "  desired_numbers_for_eod_by_ltla[ltla] = int( (7/6) * total_in_past_6_days * case_number_proportions[ltla]) \n",
    "  # This assumes we expect to go at about the same rate as last 6 days - we could also manually specify the number we roughly expect to run today\n",
    "  # Unfortunately trying to do this on the fly with a division of the number we expect to do doesn't seem to play well with the solver.\n",
    "\n",
    "\n",
    "for ltla in case_number_proportions.keys():\n",
    "  projected_numbers_for_eod_by_ltla[ltla] = genomes_in_last_6_days_by_ltla[ltla] + total_by_ltla[ltla]"
   ]
  },
  {
   "cell_type": "markdown",
   "metadata": {
    "id": "U3VVAsiMoHhG"
   },
   "source": [
    "## Constraints"
   ]
  },
  {
   "cell_type": "code",
   "execution_count": 8,
   "metadata": {
    "colab": {
     "base_uri": "https://localhost:8080/"
    },
    "id": "eLlkdgitlWge",
    "outputId": "c4729b6b-bb8b-4145-a8d4-6050c0e18976"
   },
   "outputs": [
    {
     "data": {
      "text/plain": [
       "<ortools.sat.python.cp_model.Constraint at 0x7f80280a8370>"
      ]
     },
     "execution_count": 8,
     "metadata": {},
     "output_type": "execute_result"
    }
   ],
   "source": [
    "model.Add(total_time<total_time_available)"
   ]
  },
  {
   "cell_type": "markdown",
   "metadata": {
    "id": "MovqwcDfof8K"
   },
   "source": [
    "## Losses"
   ]
  },
  {
   "cell_type": "code",
   "execution_count": 9,
   "metadata": {
    "id": "FzNMj0Meg5c4"
   },
   "outputs": [],
   "source": [
    "ltla_losses = {}\n",
    "for ltla in projected_numbers_for_eod_by_ltla.keys():\n",
    "  possible_loss =  desired_numbers_for_eod_by_ltla[ltla] - projected_numbers_for_eod_by_ltla[ltla]\n",
    "  ltla_loss_var = model.NewIntVar(0,100000000,f\"positive_loss_for_{ltla}\")\n",
    "  model.Add(ltla_loss_var>=possible_loss) #this is how we implement a 0-cut off\n",
    "\n",
    "  ltla_losses[ltla] = ltla_loss_var\n",
    "\n",
    "ltla_loss = sum(ltla_losses.values())\n",
    "\n",
    "loss = ltla_loss * ltla_loss_weighting - total_samples_picked*individual_sample_weighting -total_priority_samples_picked*priority_sample_weighting"
   ]
  },
  {
   "cell_type": "markdown",
   "metadata": {
    "id": "IkSlr4arH8WX"
   },
   "source": [
    "# Run solver"
   ]
  },
  {
   "cell_type": "code",
   "execution_count": 10,
   "metadata": {
    "id": "1jPA2JsGije3"
   },
   "outputs": [],
   "source": [
    "\n",
    "model.Minimize(loss)\n",
    "solver = cp_model.CpSolver()\n",
    "solver.parameters.linearization_level = 0\n",
    "status = solver.Solve(model)"
   ]
  },
  {
   "cell_type": "code",
   "execution_count": 11,
   "metadata": {
    "colab": {
     "base_uri": "https://localhost:8080/"
    },
    "id": "HEh7-zS7EqWc",
    "outputId": "52151616-fdda-4433-87d0-72027ce55ed6"
   },
   "outputs": [
    {
     "name": "stdout",
     "output_type": "stream",
     "text": [
      "Optimal solution found, loss: 42\n"
     ]
    }
   ],
   "source": [
    "if status == cp_model.OPTIMAL:\n",
    "  print(f\"Optimal solution found, loss: {solver.Value(loss)}\")\n",
    "elif status== cp_model.FEASIBLE:\n",
    "  print(f\"Feasible solution found, with total loss {solver.Value(loss)}\")\n",
    "else:\n",
    "  print(status)"
   ]
  },
  {
   "cell_type": "code",
   "execution_count": 12,
   "metadata": {
    "colab": {
     "base_uri": "https://localhost:8080/",
     "height": 328
    },
    "id": "5W3cxyTR2nnt",
    "outputId": "4669dfa4-834e-41bc-a229-f6632966c1c7"
   },
   "outputs": [
    {
     "data": {
      "text/html": [
       "<div>\n",
       "<style scoped>\n",
       "    .dataframe tbody tr th:only-of-type {\n",
       "        vertical-align: middle;\n",
       "    }\n",
       "\n",
       "    .dataframe tbody tr th {\n",
       "        vertical-align: top;\n",
       "    }\n",
       "\n",
       "    .dataframe thead th {\n",
       "        text-align: right;\n",
       "    }\n",
       "</style>\n",
       "<table border=\"1\" class=\"dataframe\">\n",
       "  <thead>\n",
       "    <tr style=\"text-align: right;\">\n",
       "      <th></th>\n",
       "      <th>box</th>\n",
       "      <th>plate</th>\n",
       "      <th>coord</th>\n",
       "      <th>ltla</th>\n",
       "      <th>priority</th>\n",
       "      <th>to_pick</th>\n",
       "    </tr>\n",
       "  </thead>\n",
       "  <tbody>\n",
       "    <tr>\n",
       "      <th>0</th>\n",
       "      <td>boxC5</td>\n",
       "      <td>plate33B</td>\n",
       "      <td>A5</td>\n",
       "      <td>Cardiff</td>\n",
       "      <td>0</td>\n",
       "      <td>0</td>\n",
       "    </tr>\n",
       "    <tr>\n",
       "      <th>1</th>\n",
       "      <td>boxC2</td>\n",
       "      <td>plate123A</td>\n",
       "      <td>A1</td>\n",
       "      <td>Cardiff</td>\n",
       "      <td>0</td>\n",
       "      <td>0</td>\n",
       "    </tr>\n",
       "    <tr>\n",
       "      <th>2</th>\n",
       "      <td>box1</td>\n",
       "      <td>plate123A</td>\n",
       "      <td>A2</td>\n",
       "      <td>London</td>\n",
       "      <td>0</td>\n",
       "      <td>1</td>\n",
       "    </tr>\n",
       "    <tr>\n",
       "      <th>3</th>\n",
       "      <td>box1</td>\n",
       "      <td>plate1413A</td>\n",
       "      <td>A3</td>\n",
       "      <td>London</td>\n",
       "      <td>0</td>\n",
       "      <td>0</td>\n",
       "    </tr>\n",
       "    <tr>\n",
       "      <th>4</th>\n",
       "      <td>box1</td>\n",
       "      <td>plate15B</td>\n",
       "      <td>A4</td>\n",
       "      <td>Kent</td>\n",
       "      <td>0</td>\n",
       "      <td>1</td>\n",
       "    </tr>\n",
       "    <tr>\n",
       "      <th>5</th>\n",
       "      <td>box2</td>\n",
       "      <td>plate26A</td>\n",
       "      <td>A1</td>\n",
       "      <td>London</td>\n",
       "      <td>0</td>\n",
       "      <td>0</td>\n",
       "    </tr>\n",
       "    <tr>\n",
       "      <th>6</th>\n",
       "      <td>box2b</td>\n",
       "      <td>plate25B</td>\n",
       "      <td>A1</td>\n",
       "      <td>London</td>\n",
       "      <td>0</td>\n",
       "      <td>0</td>\n",
       "    </tr>\n",
       "    <tr>\n",
       "      <th>7</th>\n",
       "      <td>box3</td>\n",
       "      <td>plate23C</td>\n",
       "      <td>A1</td>\n",
       "      <td>Kent</td>\n",
       "      <td>0</td>\n",
       "      <td>1</td>\n",
       "    </tr>\n",
       "    <tr>\n",
       "      <th>8</th>\n",
       "      <td>box3</td>\n",
       "      <td>plate22D</td>\n",
       "      <td>A1</td>\n",
       "      <td>Birmingham</td>\n",
       "      <td>1</td>\n",
       "      <td>1</td>\n",
       "    </tr>\n",
       "  </tbody>\n",
       "</table>\n",
       "</div>"
      ],
      "text/plain": [
       "     box       plate coord        ltla  priority  to_pick\n",
       "0  boxC5    plate33B    A5     Cardiff         0        0\n",
       "1  boxC2   plate123A    A1     Cardiff         0        0\n",
       "2   box1   plate123A    A2      London         0        1\n",
       "3   box1  plate1413A    A3      London         0        0\n",
       "4   box1    plate15B    A4        Kent         0        1\n",
       "5   box2    plate26A    A1      London         0        0\n",
       "6  box2b    plate25B    A1      London         0        0\n",
       "7   box3    plate23C    A1        Kent         0        1\n",
       "8   box3    plate22D    A1  Birmingham         1        1"
      ]
     },
     "execution_count": 12,
     "metadata": {},
     "output_type": "execute_result"
    }
   ],
   "source": [
    "box_manifest['to_pick'] = [solver.Value(sample_is_picked[i]) for i in box_manifest.index]\n",
    "\n",
    "box_manifest"
   ]
  },
  {
   "cell_type": "markdown",
   "metadata": {
    "id": "Y6TBxmwqKsr8"
   },
   "source": [
    "## Debugging"
   ]
  },
  {
   "cell_type": "code",
   "execution_count": 13,
   "metadata": {
    "colab": {
     "base_uri": "https://localhost:8080/"
    },
    "id": "JyoutfZrJeAb",
    "outputId": "1113607c-a037-4909-8990-5c350cd3fadb"
   },
   "outputs": [
    {
     "name": "stdout",
     "output_type": "stream",
     "text": [
      "{'London': 27, 'Birmingham': 5, 'Cardiff': 27, 'Kent': 27}\n"
     ]
    }
   ],
   "source": [
    "def print_dict(the_dict):\n",
    "  print({i:solver.Value(x) for i,x in the_dict.items()})\n",
    "print_dict(desired_numbers_for_eod_by_ltla)"
   ]
  },
  {
   "cell_type": "code",
   "execution_count": 14,
   "metadata": {
    "colab": {
     "base_uri": "https://localhost:8080/"
    },
    "id": "d1F-Wm6PJsB0",
    "outputId": "33ade79c-515d-41f2-cb7b-a3f0b2377836"
   },
   "outputs": [
    {
     "name": "stdout",
     "output_type": "stream",
     "text": [
      "{'London': 26, 'Birmingham': 26, 'Cardiff': 25, 'Kent': 2}\n"
     ]
    }
   ],
   "source": [
    "print_dict(projected_numbers_for_eod_by_ltla)"
   ]
  },
  {
   "cell_type": "code",
   "execution_count": 15,
   "metadata": {
    "colab": {
     "base_uri": "https://localhost:8080/"
    },
    "id": "P9jZpSzwJ4oP",
    "outputId": "efedf029-9f16-4916-bc60-cc2a71f9e302"
   },
   "outputs": [],
   "source": [
    "import evensampling"
   ]
  },
  {
   "cell_type": "code",
   "execution_count": 24,
   "metadata": {},
   "outputs": [],
   "source": []
  },
  {
   "cell_type": "code",
   "execution_count": 53,
   "metadata": {},
   "outputs": [],
   "source": [
    "import evensampling\n",
    "\n",
    "\n",
    "\n",
    "\n",
    "options = {\n",
    "            'seconds_per_cherrypick' : 10,\n",
    "        'seconds_per_box_load' : 60*20,\n",
    "\n",
    "        'total_time_available' : 60*20*1000000000 ,\n",
    "\n",
    "        'area_loss_weighting' : 2,\n",
    "\n",
    "        'maximise_samples_weighting' :1,\n",
    "\n",
    "        'priority_sample_weighting' : 10,\n",
    "            'max_samples':10,\n",
    "            'max_boxes':2,\n",
    "            'max_search_time':120 #in seconds\n",
    "        }\n",
    "    \n",
    "           \n",
    "mysampler = evensampling.Sampler(previous_aggregated_results=past_6_days, true_case_numbers=case_numbers,options=options)"
   ]
  },
  {
   "cell_type": "code",
   "execution_count": 54,
   "metadata": {},
   "outputs": [
    {
     "data": {
      "text/html": [
       "<div>\n",
       "<style scoped>\n",
       "    .dataframe tbody tr th:only-of-type {\n",
       "        vertical-align: middle;\n",
       "    }\n",
       "\n",
       "    .dataframe tbody tr th {\n",
       "        vertical-align: top;\n",
       "    }\n",
       "\n",
       "    .dataframe thead th {\n",
       "        text-align: right;\n",
       "    }\n",
       "</style>\n",
       "<table border=\"1\" class=\"dataframe\">\n",
       "  <thead>\n",
       "    <tr style=\"text-align: right;\">\n",
       "      <th></th>\n",
       "      <th>box</th>\n",
       "      <th>plate</th>\n",
       "      <th>coord</th>\n",
       "      <th>ltla</th>\n",
       "      <th>priority</th>\n",
       "      <th>to_pick</th>\n",
       "      <th>area</th>\n",
       "    </tr>\n",
       "  </thead>\n",
       "  <tbody>\n",
       "    <tr>\n",
       "      <th>0</th>\n",
       "      <td>boxC5</td>\n",
       "      <td>plate33B</td>\n",
       "      <td>A5</td>\n",
       "      <td>Cardiff</td>\n",
       "      <td>0</td>\n",
       "      <td>0</td>\n",
       "      <td>Cardiff</td>\n",
       "    </tr>\n",
       "    <tr>\n",
       "      <th>1</th>\n",
       "      <td>boxC2</td>\n",
       "      <td>plate123A</td>\n",
       "      <td>A1</td>\n",
       "      <td>Cardiff</td>\n",
       "      <td>0</td>\n",
       "      <td>0</td>\n",
       "      <td>Cardiff</td>\n",
       "    </tr>\n",
       "    <tr>\n",
       "      <th>2</th>\n",
       "      <td>box1</td>\n",
       "      <td>plate123A</td>\n",
       "      <td>A2</td>\n",
       "      <td>London</td>\n",
       "      <td>0</td>\n",
       "      <td>1</td>\n",
       "      <td>London</td>\n",
       "    </tr>\n",
       "    <tr>\n",
       "      <th>3</th>\n",
       "      <td>box1</td>\n",
       "      <td>plate1413A</td>\n",
       "      <td>A3</td>\n",
       "      <td>London</td>\n",
       "      <td>0</td>\n",
       "      <td>0</td>\n",
       "      <td>London</td>\n",
       "    </tr>\n",
       "    <tr>\n",
       "      <th>4</th>\n",
       "      <td>box1</td>\n",
       "      <td>plate15B</td>\n",
       "      <td>A4</td>\n",
       "      <td>Kent</td>\n",
       "      <td>0</td>\n",
       "      <td>1</td>\n",
       "      <td>Kent</td>\n",
       "    </tr>\n",
       "    <tr>\n",
       "      <th>5</th>\n",
       "      <td>box2</td>\n",
       "      <td>plate26A</td>\n",
       "      <td>A1</td>\n",
       "      <td>London</td>\n",
       "      <td>0</td>\n",
       "      <td>0</td>\n",
       "      <td>London</td>\n",
       "    </tr>\n",
       "    <tr>\n",
       "      <th>6</th>\n",
       "      <td>box2b</td>\n",
       "      <td>plate25B</td>\n",
       "      <td>A1</td>\n",
       "      <td>London</td>\n",
       "      <td>0</td>\n",
       "      <td>0</td>\n",
       "      <td>London</td>\n",
       "    </tr>\n",
       "    <tr>\n",
       "      <th>7</th>\n",
       "      <td>box3</td>\n",
       "      <td>plate23C</td>\n",
       "      <td>A1</td>\n",
       "      <td>Kent</td>\n",
       "      <td>0</td>\n",
       "      <td>1</td>\n",
       "      <td>Kent</td>\n",
       "    </tr>\n",
       "    <tr>\n",
       "      <th>8</th>\n",
       "      <td>box3</td>\n",
       "      <td>plate22D</td>\n",
       "      <td>A1</td>\n",
       "      <td>Birmingham</td>\n",
       "      <td>1</td>\n",
       "      <td>1</td>\n",
       "      <td>Birmingham</td>\n",
       "    </tr>\n",
       "  </tbody>\n",
       "</table>\n",
       "</div>"
      ],
      "text/plain": [
       "     box       plate coord        ltla  priority  to_pick        area\n",
       "0  boxC5    plate33B    A5     Cardiff         0        0     Cardiff\n",
       "1  boxC2   plate123A    A1     Cardiff         0        0     Cardiff\n",
       "2   box1   plate123A    A2      London         0        1      London\n",
       "3   box1  plate1413A    A3      London         0        0      London\n",
       "4   box1    plate15B    A4        Kent         0        1        Kent\n",
       "5   box2    plate26A    A1      London         0        0      London\n",
       "6  box2b    plate25B    A1      London         0        0      London\n",
       "7   box3    plate23C    A1        Kent         0        1        Kent\n",
       "8   box3    plate22D    A1  Birmingham         1        1  Birmingham"
      ]
     },
     "execution_count": 54,
     "metadata": {},
     "output_type": "execute_result"
    }
   ],
   "source": [
    "mysampler.make_picks(box_manifest)"
   ]
  }
 ],
 "metadata": {
  "colab": {
   "authorship_tag": "ABX9TyNirCwPaZpbgiln+UqhdDNj",
   "collapsed_sections": [],
   "include_colab_link": true,
   "name": "Cherry picking optimisation - static",
   "provenance": []
  },
  "kernelspec": {
   "display_name": "nextstrain",
   "language": "python",
   "name": "nextstrain"
  },
  "language_info": {
   "codemirror_mode": {
    "name": "ipython",
    "version": 3
   },
   "file_extension": ".py",
   "mimetype": "text/x-python",
   "name": "python",
   "nbconvert_exporter": "python",
   "pygments_lexer": "ipython3",
   "version": "3.8.6"
  }
 },
 "nbformat": 4,
 "nbformat_minor": 1
}